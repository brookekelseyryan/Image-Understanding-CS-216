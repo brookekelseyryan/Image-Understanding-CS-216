{
  "nbformat": 4,
  "nbformat_minor": 0,
  "metadata": {
    "kernelspec": {
      "name": "python3",
      "display_name": "Python 3"
    },
    "colab": {
      "name": "assignment1.ipynb",
      "provenance": []
    },
    "language_info": {
      "name": "python"
    },
    "accelerator": "TPU"
  },
  "cells": [
    {
      "cell_type": "markdown",
      "metadata": {
        "id": "jrWCZmn6kYuE"
      },
      "source": [
        "# CS216 : Assignment 1"
      ]
    },
    {
      "cell_type": "markdown",
      "metadata": {
        "id": "sq3kTI5GkYuS"
      },
      "source": [
        "Please edit the cell below to include your name and student ID #\n"
      ]
    },
    {
      "cell_type": "markdown",
      "metadata": {
        "id": "d77SIYLxkYuT"
      },
      "source": [
        "---\n",
        "\n",
        "**Brooke Ryan**\n",
        "\n",
        "**51809437**\n",
        "\n",
        "---"
      ]
    },
    {
      "cell_type": "markdown",
      "metadata": {
        "id": "B_NPBSV1kYuT"
      },
      "source": [
        "# 0. Python & Jupyter Notebook Tutorials \n",
        "\n",
        "We will make extensive use of Python's numerical arrays (NumPy) and interactive plotting (Matplotlib) \n",
        "in Jupyter notebooks for the course assignments. This first assignment is intended as a gentle warm \n",
        "up in case you haven't used these tools before. If you haven't used Jupyter before I'd suggest you\n",
        "start by reading through the following tutorials:\n",
        "\n",
        "https://jupyter-notebook.readthedocs.io/en/stable/notebook.html#starting-the-notebook-server\n",
        "https://nbviewer.jupyter.org/github/jupyter/notebook/blob/master/docs/source/examples/Notebook/Notebook%20Basics.ipynb\n",
        "https://nbviewer.jupyter.org/github/jupyter/notebook/blob/master/docs/source/examples/Notebook/Running%20Code.ipynb\n",
        "\n",
        "If you need a refresher on Python, this is a concise tutorial:\n",
        "\n",
        "http://cs231n.github.io/python-numpy-tutorial/\n",
        "\n",
        "This page gives a good introduction to NumPy and many examples of using NumPy along with Matplotlib:\n",
        "\n",
        "http://scipy-lectures.org/intro/numpy/array_object.html\n",
        "\n",
        "You should also get comfortable with searching through the documentation as needed\n",
        "\n",
        "https://numpy.org/doc/stable/reference/index.html\n",
        "\n",
        "https://matplotlib.org/stable/api/_as_gen/matplotlib.pyplot.html\n",
        "\n"
      ]
    },
    {
      "cell_type": "code",
      "metadata": {
        "id": "Cly-I3oukYuU"
      },
      "source": [
        "%matplotlib inline\n",
        "import numpy as np\n",
        "import matplotlib.pyplot as plt\n",
        "\n",
        "\n",
        "# for problem 1\n",
        "import os\n",
        "from PIL import Image\n",
        "import imghdr\n",
        "import random\n",
        "\n",
        "\n",
        "# for problem 2\n",
        "from scipy.spatial.distance import cdist\n",
        "from sklearn.metrics import confusion_matrix\n",
        "\n",
        "# for problem 3\n",
        "from scipy.ndimage import gaussian_filter\n",
        "from scipy.ndimage import zoom"
      ],
      "execution_count": 14,
      "outputs": []
    },
    {
      "cell_type": "code",
      "metadata": {
        "colab": {
          "base_uri": "https://localhost:8080/"
        },
        "id": "H_HHrvqGk1_r",
        "outputId": "c398cbc7-d107-4c33-c044-e483293cafcc"
      },
      "source": [
        "from google.colab import drive\n",
        "drive.mount('/content/drive')"
      ],
      "execution_count": 5,
      "outputs": [
        {
          "output_type": "stream",
          "text": [
            "Mounted at /content/drive\n"
          ],
          "name": "stdout"
        }
      ]
    },
    {
      "cell_type": "markdown",
      "metadata": {
        "id": "FL_MOgmKkYuU"
      },
      "source": [
        "# 1. Image Manipulation  \n",
        "\n",
        "In this exercise you will write code which loads a collection of images (which are all the same size), computes a pixelwise average of the images, and displays the resulting average.  You can see some interesting related discussion here http://people.csail.mit.edu/torralba/gallery/ and here http://www.salavon.com/work/SpecialMoments/\n",
        "***\n",
        "Download the images provided on the Canvas course website for this assignment `averageimage_data.zip`. There are two sets, `set1` and `set2`. Notice that they are not necessarily all the same size within a single set.\n",
        "\n",
        "***\n",
        "\n",
        "### 1.1 Implementation [18pts]\n",
        "\n",
        "Write a function in the cell below that loads in one of the sets of images and computes their average. You can use the **os.listdir** to get the list of files in the directory. As you load in the images, you should compute an average image on the fly. Color images are represented by a 3-dimensional array of size (HxWx3) where the third dimension indexes the red, green and blue channels. Since the images are not the same size, you will first need to resize each image to a fixed size (e.g. something like 300x215). You can set the height and width to be size of the first image you load, or if you want to be a bit more clever, make it the average dimensions of the images in the directory.\n",
        "\n",
        "You should encapsulate your code in a function called **average_image** that takes the image directory as an input and returns the average of the images in that directory. Your function should implement some error checking. Specifically your function should skip over any files in the directory that are not images (**plt.imread** will thrown an **OSError** if the file is not an image). It should also ignore images that are not color images. \n",
        "\n",
        "NOTE: In general for this course we will think of images as containing floating point values. In practice, when stored in files they are typically quantized and stored as uint8 values. When you load in an image it is usually a good idea to just convert it to a float in the range [0,1] to avoid potential bugs later when you try to do mathematical operations of the pixel values. You can use some code like:\n",
        "```python\n",
        "if (I.dtype == np.uint8):\n",
        "   I = I.astype(float) / 256.\n",
        "```\n",
        "to carry this out."
      ]
    },
    {
      "cell_type": "code",
      "metadata": {
        "id": "B2-Xtgc8kYuV"
      },
      "source": [
        "def average_image(dirname):\n",
        "    \"\"\"\n",
        "    Computes the average of all color images in a specified directory and returns the result.\n",
        "    \n",
        "    Parameters\n",
        "    ----------\n",
        "    dirname : str\n",
        "        Directory to search for images\n",
        "\n",
        "        \n",
        "    Returns\n",
        "    -------\n",
        "    numpy.array (dtype=float)\n",
        "        HxWx3 array containing the average of the images found\n",
        "        \n",
        "    \"\"\"\n",
        "\n",
        "    num_images = 0\n",
        "\n",
        "    for file in os.listdir(dirname):\n",
        "        filename = os.path.join(dirname, file)\n",
        "\n",
        "        # Only continues if the file is an image\n",
        "        if imghdr.what(filename):\n",
        "\n",
        "            # Load an image from a file into a numpy array\n",
        "            image = plt.imread(dirname + file)\n",
        "\n",
        "            # Only continues if image is RGB\n",
        "            if len(image.shape) == 3 and image.shape[2] == 3:\n",
        "\n",
        "                num_images += 1\n",
        "\n",
        "                # Gets the dimensions of the first image in the directory + sets as default\n",
        "                if num_images == 1:\n",
        "                    default_shape = image.shape\n",
        "                    sum_images = np.zeros(default_shape, np.float)\n",
        "\n",
        "                # Convert image to float in range [0, 1] to avoid potential bugs\n",
        "                if image.dtype == np.uint8:\n",
        "                    image = image.astype(float) / 256.\n",
        "\n",
        "                # Resize image to default shape\n",
        "                image = np.resize(image, default_shape)\n",
        "\n",
        "                # Total sum of image values thus far\n",
        "                sum_images = sum_images + image\n",
        "\n",
        "                # Current average image\n",
        "                average = sum_images/ num_images\n",
        "\n",
        "    return average"
      ],
      "execution_count": 6,
      "outputs": []
    },
    {
      "cell_type": "code",
      "metadata": {
        "pycharm": {
          "name": "#%%\n"
        },
        "id": "-AMYW15tkYuW"
      },
      "source": [
        "#\n",
        "## some useful functions for this part\n",
        "#\n",
        "## load an image from a file into a numpy array\n",
        "#\n",
        "# I = plt.imread(...)\n",
        "#\n",
        "## looping over files in a directory\n",
        "#\n",
        "#  for file in os.listdir(dirname):\n",
        "#       filename = os.path.join(dirname,file)\n",
        "#       if os.path.isfile(filename):\n",
        "#           try:\n",
        "#               ...\n",
        "#            except OSError as err:\n",
        "#               ...\n",
        "#               continue"
      ],
      "execution_count": 7,
      "outputs": []
    },
    {
      "cell_type": "markdown",
      "metadata": {
        "id": "cTYCVleukYuW"
      },
      "source": [
        "***\n",
        "\n",
        "### 1.2 Visualization [7pts]\n",
        "\n",
        "Write code below which calls your **average_image()** function twice, once for each set of images. Display the resulting average images. Also display a single example image from each set for comparison.  Discuss briefly what you see. In what ways does the average differ from the individual examples?"
      ]
    },
    {
      "cell_type": "code",
      "metadata": {
        "colab": {
          "base_uri": "https://localhost:8080/",
          "height": 174
        },
        "id": "Meti0t4_kYuX",
        "outputId": "a9b0503c-76c6-4901-df8c-3eecc0716187"
      },
      "source": [
        "set1 = '/content/drive/MyDrive/ImageUnderstanding/averageimage_data/set1/'\n",
        "avg = average_image(set1)\n",
        "rd = plt.imread(set1 + random.choice(os.listdir(set1)))\n",
        "\n",
        "fig, axs = plt.subplots(1, 2)\n",
        "axs[0].set_title(\"Average\")\n",
        "axs[0].imshow(avg)\n",
        "axs[1].set_title(\"Random\")\n",
        "axs[1].imshow(rd)\n",
        "\n",
        "plt.show()"
      ],
      "execution_count": 8,
      "outputs": [
        {
          "output_type": "display_data",
          "data": {
            "image/png": "[encoded data removed]",
            "text/plain": [
              "<Figure size 432x288 with 2 Axes>"
            ]
          },
          "metadata": {
            "tags": [],
            "needs_background": "light"
          }
        }
      ]
    },
    {
      "cell_type": "code",
      "metadata": {
        "pycharm": {
          "name": "#%%\n"
        },
        "colab": {
          "base_uri": "https://localhost:8080/",
          "height": 126
        },
        "id": "IzHxNw5-kYuY",
        "outputId": "7d885c0d-9c5f-4e52-fe03-78966db21866"
      },
      "source": [
        "set2 = '/content/drive/MyDrive/ImageUnderstanding/averageimage_data/set2/'\n",
        "avg = average_image(set2)\n",
        "rd = plt.imread(set2 + random.choice(os.listdir(set2)))\n",
        "\n",
        "fig, axs = plt.subplots(1, 2)\n",
        "axs[0].set_title(\"Average\")\n",
        "axs[0].imshow(avg)\n",
        "axs[1].set_title(\"Random\")\n",
        "axs[1].imshow(rd)\n",
        "\n",
        "plt.show()"
      ],
      "execution_count": 9,
      "outputs": [
        {
          "output_type": "display_data",
          "data": {
            "image/png": "[encoded data removed]",
            "text/plain": [
              "<Figure size 432x288 with 2 Axes>"
            ]
          },
          "metadata": {
            "tags": [],
            "needs_background": "light"
          }
        }
      ]
    },
    {
      "cell_type": "markdown",
      "metadata": {
        "id": "dS5CQvAfkYuY"
      },
      "source": [
        "The averages of the images are significantly blurrier than the individual photographs taken randomly from the corresponding dataset.  However, the outline of the category of images, for instance the outline of the sailboat can faintly be seen for the first example.  "
      ]
    },
    {
      "cell_type": "markdown",
      "metadata": {
        "id": "9paPg8VskYuZ"
      },
      "source": [
        "# 2. Image Classification\n",
        "\n",
        "![cifar-10.png](attachment:cifar-10.png)\n",
        "\n",
        "In this problem you will write code that will classify small 32x32 color images into one of 10 classes (airplane, automobile, bird, cat, deer, dog, frog, horse, ship, and truck). You should implement your functions \"from scratch\" (i.e. don't use other libraries beyond the ones we've already imported).\n",
        "\n",
        "You will images from here: [CIFAR-10](http://www.cs.toronto.edu/~kriz/cifar.html), using the link for the Python CIFAR-10 dataset. Please refer to the webpage for the description of the dataset format. I suggest you first debug your code on a subset of the training and testing data, and then run it on all the data. If you are running into memory or computational issues, it is fine to use a subset of the data, but please make note of this in your writeup.\n"
      ]
    },
    {
      "cell_type": "markdown",
      "metadata": {
        "id": "2IWa1tHYkYuZ"
      },
      "source": [
        "### 2.1 Load in the data \n",
        "To make sure that you understand the data format, write code to display the first airplane in the test set."
      ]
    },
    {
      "cell_type": "code",
      "metadata": {
        "colab": {
          "base_uri": "https://localhost:8080/",
          "height": 283
        },
        "id": "v_xi7Q6XkYuZ",
        "outputId": "fb9f4046-7ef1-4052-df2a-ae92c0e7a8fe"
      },
      "source": [
        "cifar = \"/content/drive/MyDrive/ImageUnderstanding/cifar-10-batches-py/\"\n",
        "\n",
        "# Code from https://stackoverflow.com/questions/33137741/fastest-way-to-convert-a-dicts-keys-values-from-bytes-to-str-in-python3\n",
        "def convert(data):\n",
        "    if isinstance(data, bytes):  return data.decode()\n",
        "    if isinstance(data, dict):   return dict(map(convert, data.items()))\n",
        "    if isinstance(data, tuple):  return tuple(map(convert, data))\n",
        "    if isinstance(data, list):   return list(map(convert, data))\n",
        "    return data\n",
        "\n",
        "# Code from https://gist.github.com/fzliu/64821d31816bce595a4bbd98588b37f5\n",
        "def save_as_image(img_flat, fname):\n",
        "    from skimage.io import imsave\n",
        "    \"\"\"\n",
        "        Saves a data blob as an image file.\n",
        "    \"\"\"\n",
        "\n",
        "    # consecutive 1024 entries store color channels of 32x32 image\n",
        "    img_R = img_flat[0:1024].reshape((32, 32))\n",
        "    img_G = img_flat[1024:2048].reshape((32, 32))\n",
        "    img_B = img_flat[2048:3072].reshape((32, 32))\n",
        "    img = np.dstack((img_R, img_G, img_B))\n",
        "\n",
        "    # Convert image to float in range [0, 1] to avoid potential bugs\n",
        "    if img.dtype == np.uint8:\n",
        "        img = img.astype(float) / 256.\n",
        "\n",
        "    return img\n",
        "    # imsave(os.path.join(PIXELS_DIR, fname), img)\n",
        "\n",
        "# Code from https://www.cs.toronto.edu/~kriz/cifar.html\n",
        "def unpickle(file):\n",
        "    import pickle\n",
        "    with open(file, 'rb') as fo:\n",
        "        dict = pickle.load(fo, encoding='bytes')\n",
        "    return convert(dict)\n",
        "\n",
        "test_batch = unpickle(cifar + 'test_batch')\n",
        "batches_meta = unpickle(cifar + 'batches.meta')\n",
        "\n",
        "# Index of airplane, since airplane label is 0\n",
        "first_airplane_index = test_batch['labels'].index(0)\n",
        "\n",
        "img_flat = test_batch[\"data\"][first_airplane_index]\n",
        "fname = test_batch[\"filenames\"][first_airplane_index]\n",
        "label = test_batch[\"labels\"][first_airplane_index]\n",
        "\n",
        "img = save_as_image(img_flat, fname)\n",
        "\n",
        "plt.imshow(img)"
      ],
      "execution_count": 10,
      "outputs": [
        {
          "output_type": "execute_result",
          "data": {
            "text/plain": [
              "<matplotlib.image.AxesImage at 0x7fc063559a90>"
            ]
          },
          "metadata": {
            "tags": []
          },
          "execution_count": 10
        },
        {
          "output_type": "display_data",
          "data": {
            "image/png": "[encoded data removed]",
            "text/plain": [
              "<Figure size 432x288 with 1 Axes>"
            ]
          },
          "metadata": {
            "tags": [],
            "needs_background": "light"
          }
        }
      ]
    },
    {
      "cell_type": "markdown",
      "metadata": {
        "id": "kC4g0ENAkYua"
      },
      "source": [
        "### 2.2 Nearest Neighbor [15pts]\n",
        "Write a function that uses nearest-neighbor (NN) classification to predicts a label for a test image by returning the label of which ever training images is closest (measured using the Euclidean distance between the vector of pixel values).  You can use the SciPy function ***scipy.spatial.distance.cdist*** to efficiently compute the pairwise distances between the test examples and all training examples.\n"
      ]
    },
    {
      "cell_type": "code",
      "metadata": {
        "pycharm": {
          "is_executing": true
        },
        "colab": {
          "base_uri": "https://localhost:8080/"
        },
        "id": "W7crCe9BkYua",
        "outputId": "287c2490-7047-42ca-b02a-b7d59e195270"
      },
      "source": [
        "class NearestNeighbors(object):\n",
        "    # Nearest neighbor classifier\n",
        "    def __init__(self, m):\n",
        "        self.method = m\n",
        "\n",
        "    def train(self, X, y):\n",
        "        # Learn the training instances\n",
        "        self.X_train = X\n",
        "        self.y_train = y\n",
        "\n",
        "    def predict(self, X_te, Y_te):\n",
        "      y_pred = np.empty_like(Y_te)\n",
        "      distances = cdist(X_te, self.X_train, metric=self.method)\n",
        "      for i in range(X_te.shape[0]):\n",
        "        min_index = distances[i].argmin()\n",
        "        y_pred[i] = self.y_train[min_index]\n",
        "      return y_pred\n",
        "\n",
        "# Helper function from https://github.com/dhingratul/k-Nearest-Neighbors/blob/master/kNN.py\n",
        "def process_data(direc, filename, batches):\n",
        "    \"\"\"\n",
        "    Converts the data in batches to a full training set\n",
        "    \"\"\"\n",
        "    for j in range(1, batches+1):\n",
        "        file = direc + filename + str(j)\n",
        "        dic = unpickle(file)\n",
        "        if j == 1:\n",
        "            X_train = dic['data']\n",
        "            y_train = dic['labels']\n",
        "        else:\n",
        "            temp_X = dic['data']\n",
        "            temp_y = dic['labels']\n",
        "            X_train = np.concatenate((X_train, temp_X))\n",
        "            y_train = np.concatenate((y_train, temp_y))\n",
        "    return X_train, y_train\n",
        "\n",
        "def nn_classify(dirname, test_images_dir, filename, batches, method=\"euclidean\"):\n",
        "    \"\"\"\n",
        "    Given a set of training images with a label for each image and \n",
        "    set of test images, this function performs nearest-neighbor \n",
        "    classification and returns a set of labels for the test images.\n",
        "    \n",
        "    Parameters\n",
        "    ----------\n",
        "    training_images: str\n",
        "        String path to set of training images.\n",
        "    test_images: str\n",
        "        String path to set of test images.\n",
        "    method: str\n",
        "        Method used to calculate nearest neighbor.\n",
        "\n",
        "    Returns\n",
        "    -------\n",
        "    labels : set\n",
        "        A set, containing the labels for the test images.\n",
        "    \"\"\"\n",
        "    X_train, Y_train = process_data(dirname, filename, batches)\n",
        "    test_data = unpickle(dirname + test_images_dir)\n",
        "    X_test = test_data['data']\n",
        "    global Y_test\n",
        "    Y_test = test_data['labels']\n",
        "\n",
        "    nn = NearestNeighbors(method)\n",
        "    nn.train(X_train, Y_train)\n",
        "    Yte_predict = nn.predict(X_test, Y_test)\n",
        "    return Yte_predict\n",
        "\n",
        "Yte_predict = nn_classify('/content/drive/MyDrive/ImageUnderstanding/cifar-10-batches-py/',\n",
        "                          'test_batch',\n",
        "                          'data_batch_',\n",
        "                          batches=1)\n",
        "print(\"Yte_predict\")\n",
        "print(Yte_predict)\n"
      ],
      "execution_count": 24,
      "outputs": [
        {
          "output_type": "stream",
          "text": [
            "Yte_predict\n",
            "[6 8 8 ... 6 6 0]\n"
          ],
          "name": "stdout"
        }
      ]
    },
    {
      "cell_type": "markdown",
      "metadata": {
        "id": "jsPWNr7XkYub"
      },
      "source": [
        "### 2.3 Evaluation Metrics [10pts]\n",
        "Write a function to compute a class confusion matrix. The confusion matrix will be an array where entry (i,j) is the fraction of times an image of class 'i' was predicted to be class 'j'. The rows of the matrix should sum to 1. Display this matrix as an image using ***imshow(cm, interpolation='nearest', cmap=cmap)*** with an appropriate colormap. You should also display a ***colorbar*** to help interpreting the values. Finally, print out the average classification accuracy across all classes (the average of the diagonal values in this matrix). "
      ]
    },
    {
      "cell_type": "code",
      "metadata": {
        "colab": {
          "base_uri": "https://localhost:8080/"
        },
        "id": "uRDDD8tVkYub",
        "outputId": "71b89325-ca30-4b04-ca91-82496d24307f"
      },
      "source": [
        "def evaluate(true_labels,predicted_labels):\n",
        "    \"\"\"\n",
        "    Given a set of ground-truth labels, a set of predicted labels \n",
        "    and the number of classes (i.e. NumPy arrays with integers in [0,..,k-1])\n",
        "    compute and display the class confusion matrix and the average \n",
        "    classification accuracy.\n",
        "    \n",
        "    Parameters\n",
        "    ----------\n",
        "    true_labels: np array\n",
        "    predicted_labels: np array\n",
        "        \n",
        "    Returns\n",
        "    -------\n",
        "    confusion_matrix, accuracies\n",
        "    \n",
        "        \n",
        "    \"\"\"\n",
        "    matrix = confusion_matrix(Y_test, Yte_predict)\n",
        "    accuracies = matrix.diagonal()/matrix.sum(axis=1)\n",
        "\n",
        "    return matrix, accuracies\n",
        "\n",
        "evaluate(Y_test, Yte_predict)"
      ],
      "execution_count": 25,
      "outputs": [
        {
          "output_type": "execute_result",
          "data": {
            "text/plain": [
              "(array([[413,  12, 154,  27,  75,  21,  32,  14, 239,  13],\n",
              "        [121, 157, 103,  59, 145,  49, 110,  21, 204,  31],\n",
              "        [ 99,   5, 345,  64, 245,  45, 109,  21,  62,   5],\n",
              "        [ 61,   8, 197, 148, 182, 119, 173,  39,  58,  15],\n",
              "        [ 62,   4, 248,  55, 396,  40, 119,  22,  51,   3],\n",
              "        [ 65,   6, 170, 139, 173, 203, 134,  33,  67,  10],\n",
              "        [ 26,   4, 225,  89, 241,  63, 298,  12,  37,   5],\n",
              "        [ 77,   5, 157,  68, 228,  76,  91, 207,  79,  12],\n",
              "        [149,  32,  65,  29,  49,  30,  48,  15, 565,  18],\n",
              "        [127,  52,  97,  53, 131,  46,  79,  38, 232, 145]]),\n",
              " array([0.413, 0.157, 0.345, 0.148, 0.396, 0.203, 0.298, 0.207, 0.565,\n",
              "        0.145]))"
            ]
          },
          "metadata": {
            "tags": []
          },
          "execution_count": 25
        }
      ]
    },
    {
      "cell_type": "markdown",
      "metadata": {
        "id": "KJE9aWvYkYub"
      },
      "source": [
        "### 2.4 Experimentation [10pts]\n",
        "\n",
        "Experiment with several different choices of distances besides Euclidian distance (e.g., cosine, correlation). You can do this by passing different options to ***cdist*** when computing the distance.  For each one you try, display the class confusion and average accuracy. To implement this in a clean way, you may want to modify your **nn_classify** function to take the metric as a parameter.\n"
      ]
    },
    {
      "cell_type": "code",
      "metadata": {
        "id": "Djbfq2F_kYuc"
      },
      "source": [
        "metrics = {\"cosine\", \"correlation\", \"euclidean\"}\n",
        "\n",
        "for i, metric in enumerate(metrics): \n",
        "  Yte_predict = nn_classify('/content/drive/MyDrive/ImageUnderstanding/cifar-10-batches-py/',\n",
        "                            'test_batch',\n",
        "                            'data_batch_',\n",
        "                            batches=1,\n",
        "                            method=metric)\n",
        "  print(\"--------------------\")\n",
        "  print(metric)\n",
        "  print(\"--------------------\\n\")\n",
        "  matrix, accuracies = evaluate(Y_test, Yte_predict)\n",
        "  print(\"~~~~~~~~~~~~~~~~\")\n",
        "  print(\"Confusion Matrix\")\n",
        "  print(\"~~~~~~~~~~~~~~~~\")\n",
        "  print(matrix)\n",
        "  print(\"~~~~~~~~~~~~~~~~\")\n",
        "  print(\"Accuracies\")\n",
        "  print(\"~~~~~~~~~~~~~~~~\")\n",
        "  print(accuracies)\n"
      ],
      "execution_count": null,
      "outputs": []
    },
    {
      "cell_type": "code",
      "metadata": {
        "id": "Jvr7Z99DkYuc"
      },
      "source": [
        ""
      ],
      "execution_count": null,
      "outputs": []
    },
    {
      "cell_type": "markdown",
      "metadata": {
        "id": "J41g9seNkYuc"
      },
      "source": [
        "### 2.5 Discussion [5pts]\n",
        "\n",
        "Which metric performs the best? Provide some explanation as to why you think this is the case. What classes are most commonly confused? Display a few examples of pairs of images from commonly confused classes and explain why the confusion might occur."
      ]
    },
    {
      "cell_type": "markdown",
      "metadata": {
        "id": "JtFUz03ukYuc"
      },
      "source": [
        ""
      ]
    },
    {
      "cell_type": "markdown",
      "metadata": {
        "id": "KiBAd0F-kYuc"
      },
      "source": [
        "# 3. Hybrid Images \n",
        "\n",
        "![drangry.jpg](attachment:drangry.jpg)\n",
        "\n",
        "The goal of this problem is to write an image filtering function and use it to create [hybrid images](https://en.wikipedia.org/wiki/Hybrid_image) using a simple version of the technique described in this [SIGGRAPH 2006 paper by Oliva, Torralba, and Schyns](https://dl.acm.org/doi/10.1145/1141911.1141919). Hybrid images are static images that change in interpretation as a function of the viewing distance. The basic idea is that high frequency tends to dominate perception when it is available, but, at a distance, only the low frequency (smooth) part of the signal can be seen. By blending the high frequency portion of one image with the low-frequency portion of another, you get a hybrid image that leads to different interpretations at different viewing distances.\n"
      ]
    },
    {
      "cell_type": "markdown",
      "metadata": {
        "id": "tLxgqinKkYud"
      },
      "source": [
        "### 3.1 Image Filtering [15pts]\n",
        "Implement a function that takes a color image as input and splits it into a low-frequency component and a high-frequency component. To get the low-frequency component, you can blur the image using a Gaussian filter using ***scipy.ndimage.gaussian_filter*** where the **sigma** parameter of the Gaussian controls the amount of blur. To get the high-frequency component, you can simply take the original image and subtract out the low-frequency component."
      ]
    },
    {
      "cell_type": "code",
      "metadata": {
        "id": "WhM2hRI7kYud"
      },
      "source": [
        "def split_bands(image,sigma):\n",
        "    \"\"\"\n",
        "    Given an image, split the image into two frequency bands\n",
        "    and return the two components (low,high)\n",
        "    \n",
        "    Parameters\n",
        "    ----------\n",
        "    image : numpy.array (dtype=float)\n",
        "        a tuple of two HxWx3 arrays containing low/high freq components respectively\n",
        "\n",
        "    sigma : float\n",
        "        the width of the gaussian filter\n",
        "        \n",
        "    Returns\n",
        "    -------\n",
        "    tuple of numpy.array (dtype=float)\n",
        "        two HxWx3 arrays containing low/high freq components respectively\n",
        "          \n",
        "    \"\"\"\n",
        "\n",
        " "
      ],
      "execution_count": null,
      "outputs": []
    },
    {
      "cell_type": "markdown",
      "metadata": {
        "id": "9H_BGflxkYud"
      },
      "source": [
        "### 3.2 Visualization [5pts]\n",
        "\n",
        "Experiment with your ***split_bands*** function on an image of your choosing which contains a mix of content. Display the high and low frequency component for several different settings of **sigma**. Make sure and experiment to find what values of **sigma** are \"too large\" or \"too small\" to be useful and then select a few intermediate values that span this range.\n",
        "\n",
        "You will encounter a challenge here which is that while the low-frequency image will contain all values in the range [0,1], the high-frequency band image in general will contain negative values which **matplotlib** will not be able to display.  For visualization purposes, you can compute an offset value and scale in order to map the values back to [0,1]. "
      ]
    },
    {
      "cell_type": "code",
      "metadata": {
        "id": "Bjmq-GhhkYud"
      },
      "source": [
        "# code to visualize"
      ],
      "execution_count": null,
      "outputs": []
    },
    {
      "cell_type": "markdown",
      "metadata": {
        "id": "lrVr8DhmkYud"
      },
      "source": [
        "### 3.3 Analysis [10pts]\n",
        "\n",
        "What is the relation between the value of **sigma** and the content of your high and low-pass images? Ideally you should be able to come up with a formula for the frequency (measured in units of cycles-per-pixel) at which the Gaussian filter with a given **sigma** (measured in units of pixels) reduces the amplitude by 0.5. This is sometimes known as the crossover point between your low-pass and high-pass filter.\n",
        "\n",
        "If you can't figure out how to determine this analytically, you are welcome to determine it experimentally by synthesizing images whose brightness is a **sin** function with a specific frequency, e.g.\n",
        "```\n",
        "x = (2*np.pi/25)*np.arange(100)\n",
        "I = np.sin(x+x.reshape(100,1))   % 100x100 image with sinusoidal brightness\n",
        "```\n",
        "and then empirically determining the value of sigma you need to choose in order to have your low- and high-pass outputs have equal amplitudes. "
      ]
    },
    {
      "cell_type": "markdown",
      "metadata": {
        "id": "HIp8yZmbkYud"
      },
      "source": [
        " ....your answer/explanation/experiment here..."
      ]
    },
    {
      "cell_type": "markdown",
      "metadata": {
        "id": "ru58zGLakYue"
      },
      "source": [
        "### 3.4 Hybrid Image Generation [5pts]\n",
        "Choose two images for which you would like to make a hybrid. The images should be fairly closely related (e.g., two different faces, a cat and dog face, two different words of text etc.).  You will also need to adjust the images so that they are the same size and are well aligned (e.g., for faces the eyes should be at the same location). You can do this in code or in a photo editing tool.\n",
        "\n",
        "You can then run your ***split_bands*** function on both images. Finally produce your two hybrid images by adding the low-frequency content of one image with the high-frequency of the other.  Make sure and display your two input images and the two resulting hybrid images in your notebook. As before, you may need to offset the result to keep all the values positive.\n",
        "\n",
        "As suggested by Figure 5 in the Oliva et. al. paper, you may be able to get better results by actually running your split bands function with two different sigmas in order to insert a larger gap between the high and low frequency bands. Feel free to experiment to get a good result.\n"
      ]
    },
    {
      "cell_type": "code",
      "metadata": {
        "id": "Ie0wGpXckYue"
      },
      "source": [
        ""
      ],
      "execution_count": null,
      "outputs": []
    }
  ]
}